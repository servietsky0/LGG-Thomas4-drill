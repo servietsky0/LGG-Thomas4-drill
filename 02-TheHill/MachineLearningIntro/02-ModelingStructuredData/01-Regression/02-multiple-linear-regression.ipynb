{
 "cells": [
  {
   "cell_type": "markdown",
   "metadata": {},
   "source": [
    "# Multiple linear regression\n",
    "\n",
    "Unlike the simple linear regression model, the multiple linear regression model is defined as any linear regression model with at least two explanatory variables. But what do we do when we have several variables? This is what we will see in this chapter. And you will finally be able to measure all the power of linear regression despite its simplicity!"
   ]
  },
  {
   "cell_type": "markdown",
   "metadata": {},
   "source": [
    "## Data"
   ]
  },
  {
   "cell_type": "markdown",
   "metadata": {},
   "source": [
    "First of all, we will load our dataset. This is a fake dataset for the example. "
   ]
  },
  {
   "cell_type": "code",
   "execution_count": 3,
   "metadata": {},
   "outputs": [],
   "source": [
    "import pandas as pd"
   ]
  },
  {
   "cell_type": "code",
   "execution_count": 4,
   "metadata": {},
   "outputs": [],
   "source": [
    "df = pd.read_csv(\"./data/data_multi.csv\")"
   ]
  },
  {
   "cell_type": "code",
   "execution_count": 5,
   "metadata": {},
   "outputs": [
    {
     "data": {
      "text/html": [
       "<div>\n",
       "<style scoped>\n",
       "    .dataframe tbody tr th:only-of-type {\n",
       "        vertical-align: middle;\n",
       "    }\n",
       "\n",
       "    .dataframe tbody tr th {\n",
       "        vertical-align: top;\n",
       "    }\n",
       "\n",
       "    .dataframe thead th {\n",
       "        text-align: right;\n",
       "    }\n",
       "</style>\n",
       "<table border=\"1\" class=\"dataframe\">\n",
       "  <thead>\n",
       "    <tr style=\"text-align: right;\">\n",
       "      <th></th>\n",
       "      <th>x_1</th>\n",
       "      <th>x_2</th>\n",
       "      <th>y</th>\n",
       "    </tr>\n",
       "  </thead>\n",
       "  <tbody>\n",
       "    <tr>\n",
       "      <th>0</th>\n",
       "      <td>1.054452</td>\n",
       "      <td>-1.070753</td>\n",
       "      <td>-81.464433</td>\n",
       "    </tr>\n",
       "    <tr>\n",
       "      <th>1</th>\n",
       "      <td>-0.362741</td>\n",
       "      <td>-0.634322</td>\n",
       "      <td>-78.752795</td>\n",
       "    </tr>\n",
       "    <tr>\n",
       "      <th>2</th>\n",
       "      <td>-0.854096</td>\n",
       "      <td>0.313068</td>\n",
       "      <td>2.218414</td>\n",
       "    </tr>\n",
       "    <tr>\n",
       "      <th>3</th>\n",
       "      <td>1.326386</td>\n",
       "      <td>0.298238</td>\n",
       "      <td>52.234160</td>\n",
       "    </tr>\n",
       "    <tr>\n",
       "      <th>4</th>\n",
       "      <td>-0.461585</td>\n",
       "      <td>-1.315907</td>\n",
       "      <td>-159.639258</td>\n",
       "    </tr>\n",
       "    <tr>\n",
       "      <th>...</th>\n",
       "      <td>...</td>\n",
       "      <td>...</td>\n",
       "      <td>...</td>\n",
       "    </tr>\n",
       "    <tr>\n",
       "      <th>95</th>\n",
       "      <td>0.823504</td>\n",
       "      <td>0.771791</td>\n",
       "      <td>86.316340</td>\n",
       "    </tr>\n",
       "    <tr>\n",
       "      <th>96</th>\n",
       "      <td>0.976639</td>\n",
       "      <td>0.208275</td>\n",
       "      <td>83.136943</td>\n",
       "    </tr>\n",
       "    <tr>\n",
       "      <th>97</th>\n",
       "      <td>-1.347759</td>\n",
       "      <td>1.883151</td>\n",
       "      <td>157.404615</td>\n",
       "    </tr>\n",
       "    <tr>\n",
       "      <th>98</th>\n",
       "      <td>0.052165</td>\n",
       "      <td>-1.104383</td>\n",
       "      <td>-136.511136</td>\n",
       "    </tr>\n",
       "    <tr>\n",
       "      <th>99</th>\n",
       "      <td>-1.726283</td>\n",
       "      <td>-0.813146</td>\n",
       "      <td>-143.452015</td>\n",
       "    </tr>\n",
       "  </tbody>\n",
       "</table>\n",
       "<p>100 rows × 3 columns</p>\n",
       "</div>"
      ],
      "text/plain": [
       "         x_1       x_2           y\n",
       "0   1.054452 -1.070753  -81.464433\n",
       "1  -0.362741 -0.634322  -78.752795\n",
       "2  -0.854096  0.313068    2.218414\n",
       "3   1.326386  0.298238   52.234160\n",
       "4  -0.461585 -1.315907 -159.639258\n",
       "..       ...       ...         ...\n",
       "95  0.823504  0.771791   86.316340\n",
       "96  0.976639  0.208275   83.136943\n",
       "97 -1.347759  1.883151  157.404615\n",
       "98  0.052165 -1.104383 -136.511136\n",
       "99 -1.726283 -0.813146 -143.452015\n",
       "\n",
       "[100 rows x 3 columns]"
      ]
     },
     "execution_count": 5,
     "metadata": {},
     "output_type": "execute_result"
    }
   ],
   "source": [
    "df"
   ]
  },
  {
   "cell_type": "code",
   "execution_count": 247,
   "metadata": {},
   "outputs": [
    {
     "data": {
      "text/plain": [
       "(100, 3)"
      ]
     },
     "execution_count": 247,
     "metadata": {},
     "output_type": "execute_result"
    }
   ],
   "source": [
    "df.shape"
   ]
  },
  {
   "cell_type": "markdown",
   "metadata": {},
   "source": [
    "As you can see we now have 100 rows, 2 features and 1 target."
   ]
  },
  {
   "cell_type": "markdown",
   "metadata": {},
   "source": [
    "**Exercise:** Create the `X` and `y` variables and define which column will be the target and which column will be the feature. \n",
    "They must be of type `numpy.ndarray`. Our variable `X` has two dimensions this time."
   ]
  },
  {
   "cell_type": "code",
   "execution_count": 16,
   "metadata": {},
   "outputs": [
    {
     "data": {
      "text/plain": [
       "array([[ 1.05445173, -1.07075262],\n",
       "       [-0.36274117, -0.63432209],\n",
       "       [-0.85409574,  0.3130677 ],\n",
       "       [ 1.3263859 ,  0.29823817],\n",
       "       [-0.4615846 , -1.31590741],\n",
       "       [ 1.94362119, -1.17312341],\n",
       "       [-1.60205766,  0.62523145],\n",
       "       [-0.40178094,  0.17742614],\n",
       "       [-0.97727788,  1.86755799],\n",
       "       [ 0.37816252,  0.15494743],\n",
       "       [-0.30230275, -0.38732682],\n",
       "       [-0.74745481, -0.41361898],\n",
       "       [-0.18718385,  0.04575852],\n",
       "       [ 0.31872765,  0.92085882],\n",
       "       [-1.53624369,  0.46566244],\n",
       "       [ 0.40015721,  1.76405235],\n",
       "       [-0.82643854, -0.74475482],\n",
       "       [-0.74216502,  0.8644362 ],\n",
       "       [ 0.70657317,  0.3563664 ],\n",
       "       [ 0.90082649, -1.16514984],\n",
       "       [-0.57884966, -0.87079715],\n",
       "       [-0.20829876,  0.57659082],\n",
       "       [ 0.68159452, -1.03424284],\n",
       "       [ 0.8024564 , -0.26800337],\n",
       "       [ 0.77749036, -1.25279536],\n",
       "       [-1.5447711 , -1.00021535],\n",
       "       [ 0.96939671, -1.270485  ],\n",
       "       [ 0.67643329, -0.63584608],\n",
       "       [ 1.78587049,  0.01050002],\n",
       "       [ 1.5430146 , -0.739563  ],\n",
       "       [ 0.05616534, -0.31155253],\n",
       "       [-0.21274028, -1.61389785],\n",
       "       [-0.35955316, -0.67246045],\n",
       "       [-1.23482582,  1.13940068],\n",
       "       [ 0.15634897, -0.34791215],\n",
       "       [ 0.4105985 , -0.10321885],\n",
       "       [-0.15501009,  0.94725197],\n",
       "       [ 1.20237985,  1.23029068],\n",
       "       [ 0.40198936,  0.12691209],\n",
       "       [-1.07993151,  1.12663592],\n",
       "       [ 0.92220667,  0.61407937],\n",
       "       [-0.68954978, -0.80340966],\n",
       "       [-0.17154633,  0.52327666],\n",
       "       [ 0.08755124,  0.94942081],\n",
       "       [ 1.89588918,  1.48825219],\n",
       "       [-0.66347829, -0.09845252],\n",
       "       [ 1.84926373, -0.43515355],\n",
       "       [ 0.33367433,  0.44386323],\n",
       "       [-1.37495129, -0.35399391],\n",
       "       [ 1.46935877,  1.53277921],\n",
       "       [ 0.01747916, -0.4555325 ],\n",
       "       [-1.18063218, -0.51080514],\n",
       "       [ 0.26705087, -1.29285691],\n",
       "       [ 1.11701629, -0.91282223],\n",
       "       [ 1.45427351,  0.14404357],\n",
       "       [ 2.2408932 ,  0.97873798],\n",
       "       [-0.14963454, -0.69456786],\n",
       "       [ 0.90604466,  1.86755896],\n",
       "       [-1.1680935 , -0.03928282],\n",
       "       [-0.65102559,  0.85683061],\n",
       "       [-1.98079647, -0.88778575],\n",
       "       [-0.4380743 , -0.50965218],\n",
       "       [ 0.84436298, -1.22543552],\n",
       "       [ 1.22244507, -0.40317695],\n",
       "       [ 0.63503144,  0.1666735 ],\n",
       "       [ 0.3869025 , -0.89546656],\n",
       "       [-0.20515826,  1.49407907],\n",
       "       [ 0.12898291,  0.72909056],\n",
       "       [ 1.33652795,  2.16323595],\n",
       "       [ 1.9507754 , -1.70627019],\n",
       "       [ 1.48051479,  1.92294203],\n",
       "       [ 0.31694261,  1.18802979],\n",
       "       [-2.22340315, -0.6436184 ],\n",
       "       [ 1.71334272, -0.06824161],\n",
       "       [ 0.3024719 ,  0.06651722],\n",
       "       [ 0.12167502,  0.76103773],\n",
       "       [-1.42001794, -1.04855297],\n",
       "       [ 0.4393917 , -1.49125759],\n",
       "       [-0.17992484,  1.17877957],\n",
       "       [-0.68481009,  0.40234164],\n",
       "       [-1.09940079,  0.37642553],\n",
       "       [-0.15135721,  0.95008842],\n",
       "       [-0.43782004, -1.14746865],\n",
       "       [ 0.0519454 , -0.90729836],\n",
       "       [-1.09306151,  0.39600671],\n",
       "       [ 0.40746184,  0.67229476],\n",
       "       [ 0.53924919, -0.76991607],\n",
       "       [ 1.91006495, -0.86122569],\n",
       "       [ 0.42833187, -0.02818223],\n",
       "       [ 0.6536186 , -2.55298982],\n",
       "       [ 0.94447949,  2.38314477],\n",
       "       [ 0.03183056, -0.67433266],\n",
       "       [ 1.92953205, -0.49803245],\n",
       "       [-1.45436567,  2.26975462],\n",
       "       [ 0.46278226, -1.63019835],\n",
       "       [ 0.82350415,  0.77179055],\n",
       "       [ 0.97663904,  0.20827498],\n",
       "       [-1.34775906,  1.8831507 ],\n",
       "       [ 0.05216508, -1.10438334],\n",
       "       [-1.7262826 , -0.81314628]])"
      ]
     },
     "execution_count": 16,
     "metadata": {},
     "output_type": "execute_result"
    }
   ],
   "source": [
    "import numpy as np\n",
    "\n",
    "y = np.array(df['y'])\n",
    "X = np.array(df.drop('y', axis=1))\n",
    "X"
   ]
  },
  {
   "cell_type": "markdown",
   "metadata": {},
   "source": [
    "### Relationship between variables"
   ]
  },
  {
   "cell_type": "markdown",
   "metadata": {},
   "source": [
    "To represent a dataset that has two features, we can use 3D visualization."
   ]
  },
  {
   "cell_type": "markdown",
   "metadata": {},
   "source": [
    "**Exercise:** Use a 3D matplotlib (or other) graph to view the dataset. "
   ]
  },
  {
   "cell_type": "code",
   "execution_count": 23,
   "metadata": {},
   "outputs": [
    {
     "data": {
      "text/plain": [
       "<mpl_toolkits.mplot3d.art3d.Path3DCollection at 0x74b2ca3daef0>"
      ]
     },
     "execution_count": 23,
     "metadata": {},
     "output_type": "execute_result"
    },
    {
     "data": {
      "image/png": "[encoded data removed]",
      "text/plain": [
       "<Figure size 640x480 with 1 Axes>"
      ]
     },
     "metadata": {},
     "output_type": "display_data"
    }
   ],
   "source": [
    "import matplotlib.pyplot as plt\n",
    "\n",
    "ax = plt.figure().add_subplot(projection='3d')\n",
    "ax.view_init(180, 180)\n",
    "ax.scatter(df['x_1'], df['x_2'], df['y'])"
   ]
  },
  {
   "cell_type": "markdown",
   "metadata": {},
   "source": [
    "If you change the camera angle, you should come across something that looks like this: \n",
    "\n",
    "<img src=\"./assets/3dplot.png\" />"
   ]
  },
  {
   "cell_type": "markdown",
   "metadata": {},
   "source": [
    "This appears to be a positive linear correlation. What do you say?  \n",
    "\n",
    "\n",
    "If our dataset has more than two dimensions, then we won't be able to display it in 3D. Unfortunately for us, the human being can only perceive 3 dimensions. In this case, we will have no other choice than to display one scatter plot per variable.\n",
    "\n",
    "And it is there that we realize that the linear regression may be very simple, as soon as we go beyond 3 dimensions, the human being will hardly be able to visualize all the data while the machines are doing very well.\n",
    "\n",
    "**Exercise:** Create a scatter plot for each variable with respect to the target. You may use  `plt.tight_layout()` after plotting if the graph is too cramped."
   ]
  },
  {
   "cell_type": "code",
   "execution_count": 36,
   "metadata": {},
   "outputs": [
    {
     "data": {
      "image/png": "[encoded data removed]",
      "text/plain": [
       "<Figure size 640x480 with 2 Axes>"
      ]
     },
     "metadata": {},
     "output_type": "display_data"
    }
   ],
   "source": [
    "fig, ax = plt.subplots(nrows=1, ncols=2)\n",
    "ax[0].scatter(df['x_1'], df['y'])\n",
    "ax[1].scatter(df['x_2'], df['y'])\n",
    "plt.show()"
   ]
  },
  {
   "cell_type": "markdown",
   "metadata": {},
   "source": [
    "**Exercise:** Show correlation coefficients. "
   ]
  },
  {
   "cell_type": "code",
   "execution_count": 38,
   "metadata": {},
   "outputs": [
    {
     "data": {
      "text/plain": [
       "array([[1.        , 0.93029924],\n",
       "       [0.93029924, 1.        ]])"
      ]
     },
     "execution_count": 38,
     "metadata": {},
     "output_type": "execute_result"
    }
   ],
   "source": [
    "np.corrcoef(df['x_1'], df['y'])\n",
    "np.corrcoef(df['x_2'], df['y'])"
   ]
  },
  {
   "cell_type": "markdown",
   "metadata": {},
   "source": [
    "### Split the dataset\n",
    "\n",
    "You now know the process!\n",
    "\n",
    "**Exercise:** Import `train_test_split` from `sklearn` and split the dataset and create the variables `X_train`, `X_test`, `y_train`, `y_test`."
   ]
  },
  {
   "cell_type": "code",
   "execution_count": 45,
   "metadata": {},
   "outputs": [
    {
     "name": "stdout",
     "output_type": "stream",
     "text": [
      "[[ 0.0519454  -0.90729836]\n",
      " [ 1.11701629 -0.91282223]\n",
      " [ 1.48051479  1.92294203]\n",
      " [-0.66347829 -0.09845252]\n",
      " [ 1.89588918  1.48825219]\n",
      " [-1.07993151  1.12663592]\n",
      " [ 0.68159452 -1.03424284]\n",
      " [-1.09940079  0.37642553]\n",
      " [-0.30230275 -0.38732682]\n",
      " [ 1.05445173 -1.07075262]\n",
      " [ 0.70657317  0.3563664 ]\n",
      " [ 0.05616534 -0.31155253]\n",
      " [ 1.71334272 -0.06824161]\n",
      " [-1.23482582  1.13940068]\n",
      " [ 0.94447949  2.38314477]\n",
      " [-0.4615846  -1.31590741]\n",
      " [-1.42001794 -1.04855297]\n",
      " [ 0.4393917  -1.49125759]\n",
      " [-0.18718385  0.04575852]\n",
      " [-0.21274028 -1.61389785]]\n"
     ]
    }
   ],
   "source": [
    "from sklearn.model_selection import train_test_split\n",
    "\n",
    "X_train, X_test, y_train, y_test = train_test_split(X, y, test_size=0.2 , random_state=42)\n"
   ]
  },
  {
   "cell_type": "markdown",
   "metadata": {},
   "source": [
    "##  Load and fit the model (with scikit-learn)"
   ]
  },
  {
   "cell_type": "markdown",
   "metadata": {},
   "source": [
    "How to use `sklearn` now with multiple features? Well, it's simple, you don't need to change anything as `sklearn` takes care of everything for you.\n",
    "\n",
    "1. Import `LinearRegression` from `sklearn`\n",
    "2. Create a `regressor` variable and instantiate your `LinearRegression` class.\n",
    "3. Train your model with `X_train` and `y_train`.\n",
    "4. Display the score of your model with `X_train` and `y_train`.\n",
    "5. Use the predict method of your model on your test dataset (`X_test`).\n",
    "6. Display the score of your model with `X_test` and `y_test`."
   ]
  },
  {
   "cell_type": "code",
   "execution_count": 52,
   "metadata": {},
   "outputs": [
    {
     "data": {
      "text/plain": [
       "0.9418412685059916"
      ]
     },
     "execution_count": 52,
     "metadata": {},
     "output_type": "execute_result"
    }
   ],
   "source": [
    "from sklearn.linear_model import LinearRegression\n",
    "\n",
    "model = LinearRegression()\n",
    "\n",
    "model.fit(X_train, y_train)\n",
    "\n",
    "model.score(X_train, y_train)\n",
    "\n",
    "pred = model.predict(X_test)\n",
    "\n",
    "model.score(X_test, y_test)\n"
   ]
  },
  {
   "cell_type": "code",
   "execution_count": null,
   "metadata": {},
   "outputs": [],
   "source": []
  },
  {
   "cell_type": "code",
   "execution_count": null,
   "metadata": {},
   "outputs": [],
   "source": []
  },
  {
   "cell_type": "markdown",
   "metadata": {},
   "source": [
    "And voilà!"
   ]
  }
 ],
 "metadata": {
  "kernelspec": {
   "display_name": "Python 3",
   "language": "python",
   "name": "python3"
  },
  "language_info": {
   "codemirror_mode": {
    "name": "ipython",
    "version": 3
   },
   "file_extension": ".py",
   "mimetype": "text/x-python",
   "name": "python",
   "nbconvert_exporter": "python",
   "pygments_lexer": "ipython3",
   "version": "3.10.12"
  }
 },
 "nbformat": 4,
 "nbformat_minor": 4
}
