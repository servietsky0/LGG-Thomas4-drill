{
 "cells": [
  {
   "cell_type": "markdown",
   "metadata": {},
   "source": [
    "# Collections cheat sheet\n",
    "\n",
    "This notebook is about what you should *absolutely know* about the basic collections in order to be an efficient Python programmer.\n",
    "\n",
    "| Collection  \t| Ordered \t| Mutable \t| Indexed \t| Keyed \t| Content constraint   \t| Search (in) \t| Sort            \t| Memory usage \t| Uses                           \t|\n",
    "|-------------\t|---------\t|---------\t|---------\t|-------\t|----------------------\t|-------------\t|-----------------\t|--------------\t|--------------------------------\t|\n",
    "| List        \t| yes     \t| yes     \t| yes     \t| no    \t| none                 \t| slow, O(n)   \t| slow, O(n log n) \t| small       \t| sequence, sort                 \t|\n",
    "| Tuple       \t| yes     \t| no      \t| yes     \t| no    \t| none                 \t| slow, O(n)   \t| N/A             \t| small       \t| integrity                      \t|\n",
    "| Set         \t| no      \t| yes     \t| no      \t| no    \t| hashable, unique     \t| fast, constant O(1)   \t| N/A             \t| big       \t| search, unique, set operations \t|\n",
    "| Dictionnary \t| no      \t| yes     \t| no      \t| yes   \t| key hashable, unique \t| fast, constant O(1)   \t| N/A             \t| big      \t| search, lookup                 \t|"
   ]
  },
  {
   "cell_type": "markdown",
   "metadata": {},
   "source": [
    "## Lists vs sets\n",
    "\n",
    "In general, if your collection does not need to be ordered, a set is a good candidate. If the list is really small, the memory savings can balance the search inefficiency."
   ]
  },
  {
   "cell_type": "code",
   "execution_count": 1,
   "metadata": {},
   "outputs": [
    {
     "name": "stdout",
     "output_type": "stream",
     "text": [
      "[10 elements] The set takes 5.4 times as much space as the same size list.\n",
      "[10 elements] Search best case: the set is 0.9 times faster than the list. 88 µs vs 76 µs\n",
      "[10 elements] Search average case: the set is 2.8 times faster than the list. 52 µs vs 145 µs\n",
      "[10 elements] Search worst case: the set is 3.6 times faster than the list. 58 µs vs 211 µs\n",
      "\n",
      "[1000 elements] The set takes 4.1 times as much space as the same size list.\n",
      "[1000 elements] Search best case: the set is 0.8 times faster than the list. 90 µs vs 73 µs\n",
      "[1000 elements] Search average case: the set is 96.9 times faster than the list. 90 µs vs 8704 µs\n",
      "[1000 elements] Search worst case: the set is 210.4 times faster than the list. 84 µs vs 17686 µs\n",
      "\n",
      "[1000000 elements] The set takes 4.2 times as much space as the same size list.\n",
      "[1000000 elements] Search best case: the set is 0.8 times faster than the list. 104 µs vs 81 µs\n"
     ]
    },
    {
     "ename": "KeyboardInterrupt",
     "evalue": "",
     "output_type": "error",
     "traceback": [
      "\u001b[0;31m---------------------------------------------------------------------------\u001b[0m",
      "\u001b[0;31mKeyboardInterrupt\u001b[0m                         Traceback (most recent call last)",
      "Cell \u001b[0;32mIn[1], line 14\u001b[0m\n\u001b[1;32m     11\u001b[0m elements \u001b[38;5;241m=\u001b[39m { \u001b[38;5;241m0\u001b[39m: \u001b[38;5;124m\"\u001b[39m\u001b[38;5;124mbest\u001b[39m\u001b[38;5;124m\"\u001b[39m, i \u001b[38;5;241m/\u001b[39m\u001b[38;5;241m/\u001b[39m \u001b[38;5;241m2\u001b[39m: \u001b[38;5;124m\"\u001b[39m\u001b[38;5;124maverage\u001b[39m\u001b[38;5;124m\"\u001b[39m, i: \u001b[38;5;124m\"\u001b[39m\u001b[38;5;124mworst\u001b[39m\u001b[38;5;124m\"\u001b[39m}\n\u001b[1;32m     13\u001b[0m \u001b[38;5;28;01mfor\u001b[39;00m element, description \u001b[38;5;129;01min\u001b[39;00m elements\u001b[38;5;241m.\u001b[39mitems():\n\u001b[0;32m---> 14\u001b[0m     time_l \u001b[38;5;241m=\u001b[39m \u001b[43mtimeit\u001b[49m\u001b[38;5;241;43m.\u001b[39;49m\u001b[43mtimeit\u001b[49m\u001b[43m(\u001b[49m\u001b[38;5;124;43mf\u001b[39;49m\u001b[38;5;124;43m\"\u001b[39;49m\u001b[38;5;132;43;01m{\u001b[39;49;00m\u001b[43melement\u001b[49m\u001b[38;5;132;43;01m}\u001b[39;49;00m\u001b[38;5;124;43m in l\u001b[39;49m\u001b[38;5;124;43m\"\u001b[39;49m\u001b[43m,\u001b[49m\u001b[43m \u001b[49m\u001b[43msetup\u001b[49m\u001b[38;5;241;43m=\u001b[39;49m\u001b[38;5;124;43mf\u001b[39;49m\u001b[38;5;124;43m\"\u001b[39;49m\u001b[38;5;124;43ml = \u001b[39;49m\u001b[38;5;132;43;01m{\u001b[39;49;00m\u001b[43ml\u001b[49m\u001b[38;5;132;43;01m}\u001b[39;49;00m\u001b[38;5;124;43m\"\u001b[39;49m\u001b[43m,\u001b[49m\u001b[43m \u001b[49m\u001b[43mnumber\u001b[49m\u001b[38;5;241;43m=\u001b[39;49m\u001b[38;5;241;43m1000\u001b[39;49m\u001b[43m)\u001b[49m\n\u001b[1;32m     15\u001b[0m     time_s \u001b[38;5;241m=\u001b[39m timeit\u001b[38;5;241m.\u001b[39mtimeit(\u001b[38;5;124mf\u001b[39m\u001b[38;5;124m\"\u001b[39m\u001b[38;5;132;01m{\u001b[39;00melement\u001b[38;5;132;01m}\u001b[39;00m\u001b[38;5;124m in s\u001b[39m\u001b[38;5;124m\"\u001b[39m, setup\u001b[38;5;241m=\u001b[39m\u001b[38;5;124mf\u001b[39m\u001b[38;5;124m\"\u001b[39m\u001b[38;5;124ms = \u001b[39m\u001b[38;5;132;01m{\u001b[39;00ms\u001b[38;5;132;01m}\u001b[39;00m\u001b[38;5;124m\"\u001b[39m, number\u001b[38;5;241m=\u001b[39m\u001b[38;5;241m1000\u001b[39m)\n\u001b[1;32m     16\u001b[0m     \u001b[38;5;28mprint\u001b[39m(\u001b[38;5;124mf\u001b[39m\u001b[38;5;124m\"\u001b[39m\u001b[38;5;124m[\u001b[39m\u001b[38;5;132;01m{\u001b[39;00mi\u001b[38;5;132;01m}\u001b[39;00m\u001b[38;5;124m elements] Search \u001b[39m\u001b[38;5;132;01m{\u001b[39;00mdescription\u001b[38;5;132;01m}\u001b[39;00m\u001b[38;5;124m case: the set is \u001b[39m\u001b[38;5;132;01m{\u001b[39;00m\u001b[38;5;28mround\u001b[39m(time_l\u001b[38;5;250m \u001b[39m\u001b[38;5;241m/\u001b[39m\u001b[38;5;250m \u001b[39mtime_s,\u001b[38;5;250m \u001b[39m\u001b[38;5;241m1\u001b[39m)\u001b[38;5;132;01m}\u001b[39;00m\u001b[38;5;124m times faster than the list. \u001b[39m\u001b[38;5;132;01m{\u001b[39;00m\u001b[38;5;28mround\u001b[39m(\u001b[38;5;241m1000000\u001b[39m\u001b[38;5;250m \u001b[39m\u001b[38;5;241m*\u001b[39m\u001b[38;5;250m \u001b[39mtime_s)\u001b[38;5;132;01m}\u001b[39;00m\u001b[38;5;124m µs vs \u001b[39m\u001b[38;5;132;01m{\u001b[39;00m\u001b[38;5;28mround\u001b[39m(\u001b[38;5;241m1000000\u001b[39m\u001b[38;5;250m \u001b[39m\u001b[38;5;241m*\u001b[39m\u001b[38;5;250m \u001b[39mtime_l)\u001b[38;5;132;01m}\u001b[39;00m\u001b[38;5;124m µs\u001b[39m\u001b[38;5;124m\"\u001b[39m)\n",
      "File \u001b[0;32m/usr/lib/python3.10/timeit.py:234\u001b[0m, in \u001b[0;36mtimeit\u001b[0;34m(stmt, setup, timer, number, globals)\u001b[0m\n\u001b[1;32m    231\u001b[0m \u001b[38;5;28;01mdef\u001b[39;00m \u001b[38;5;21mtimeit\u001b[39m(stmt\u001b[38;5;241m=\u001b[39m\u001b[38;5;124m\"\u001b[39m\u001b[38;5;124mpass\u001b[39m\u001b[38;5;124m\"\u001b[39m, setup\u001b[38;5;241m=\u001b[39m\u001b[38;5;124m\"\u001b[39m\u001b[38;5;124mpass\u001b[39m\u001b[38;5;124m\"\u001b[39m, timer\u001b[38;5;241m=\u001b[39mdefault_timer,\n\u001b[1;32m    232\u001b[0m            number\u001b[38;5;241m=\u001b[39mdefault_number, \u001b[38;5;28mglobals\u001b[39m\u001b[38;5;241m=\u001b[39m\u001b[38;5;28;01mNone\u001b[39;00m):\n\u001b[1;32m    233\u001b[0m \u001b[38;5;250m    \u001b[39m\u001b[38;5;124;03m\"\"\"Convenience function to create Timer object and call timeit method.\"\"\"\u001b[39;00m\n\u001b[0;32m--> 234\u001b[0m     \u001b[38;5;28;01mreturn\u001b[39;00m \u001b[43mTimer\u001b[49m\u001b[43m(\u001b[49m\u001b[43mstmt\u001b[49m\u001b[43m,\u001b[49m\u001b[43m \u001b[49m\u001b[43msetup\u001b[49m\u001b[43m,\u001b[49m\u001b[43m \u001b[49m\u001b[43mtimer\u001b[49m\u001b[43m,\u001b[49m\u001b[43m \u001b[49m\u001b[38;5;28;43mglobals\u001b[39;49m\u001b[43m)\u001b[49m\u001b[38;5;241m.\u001b[39mtimeit(number)\n",
      "File \u001b[0;32m/usr/lib/python3.10/timeit.py:111\u001b[0m, in \u001b[0;36mTimer.__init__\u001b[0;34m(self, stmt, setup, timer, globals)\u001b[0m\n\u001b[1;32m    108\u001b[0m init \u001b[38;5;241m=\u001b[39m \u001b[38;5;124m'\u001b[39m\u001b[38;5;124m'\u001b[39m\n\u001b[1;32m    109\u001b[0m \u001b[38;5;28;01mif\u001b[39;00m \u001b[38;5;28misinstance\u001b[39m(setup, \u001b[38;5;28mstr\u001b[39m):\n\u001b[1;32m    110\u001b[0m     \u001b[38;5;66;03m# Check that the code can be compiled outside a function\u001b[39;00m\n\u001b[0;32m--> 111\u001b[0m     \u001b[38;5;28;43mcompile\u001b[39;49m\u001b[43m(\u001b[49m\u001b[43msetup\u001b[49m\u001b[43m,\u001b[49m\u001b[43m \u001b[49m\u001b[43mdummy_src_name\u001b[49m\u001b[43m,\u001b[49m\u001b[43m \u001b[49m\u001b[38;5;124;43m\"\u001b[39;49m\u001b[38;5;124;43mexec\u001b[39;49m\u001b[38;5;124;43m\"\u001b[39;49m\u001b[43m)\u001b[49m\n\u001b[1;32m    112\u001b[0m     stmtprefix \u001b[38;5;241m=\u001b[39m setup \u001b[38;5;241m+\u001b[39m \u001b[38;5;124m'\u001b[39m\u001b[38;5;130;01m\\n\u001b[39;00m\u001b[38;5;124m'\u001b[39m\n\u001b[1;32m    113\u001b[0m     setup \u001b[38;5;241m=\u001b[39m reindent(setup, \u001b[38;5;241m4\u001b[39m)\n",
      "\u001b[0;31mKeyboardInterrupt\u001b[0m: "
     ]
    }
   ],
   "source": [
    "import sys\n",
    "import timeit\n",
    "\n",
    "for i in (10, 1000, 1000000):\n",
    "    l = list(range(i))\n",
    "    s = set(range(i))\n",
    "\n",
    "    ratio_meme_s_to_l = round(sys.getsizeof(s) / sys.getsizeof(l), 1)\n",
    "    print(f\"[{i} elements] The set takes {ratio_meme_s_to_l} times as much space as the same size list.\")\n",
    "\n",
    "    elements = { 0: \"best\", i // 2: \"average\", i: \"worst\"}\n",
    "\n",
    "    for element, description in elements.items():\n",
    "        time_l = timeit.timeit(f\"{element} in l\", setup=f\"l = {l}\", number=1000)\n",
    "        time_s = timeit.timeit(f\"{element} in s\", setup=f\"s = {s}\", number=1000)\n",
    "        print(f\"[{i} elements] Search {description} case: the set is {round(time_l / time_s, 1)} times faster than the list. {round(1000000 * time_s)} µs vs {round(1000000 * time_l)} µs\")\n",
    "    print()"
   ]
  }
 ],
 "metadata": {
  "kernelspec": {
   "display_name": "Python 3.9.10 ('base')",
   "language": "python",
   "name": "python3"
  },
  "language_info": {
   "codemirror_mode": {
    "name": "ipython",
    "version": 3
   },
   "file_extension": ".py",
   "mimetype": "text/x-python",
   "name": "python",
   "nbconvert_exporter": "python",
   "pygments_lexer": "ipython3",
   "version": "3.10.12"
  },
  "orig_nbformat": 4,
  "vscode": {
   "interpreter": {
    "hash": "c6e4e9f98eb68ad3b7c296f83d20e6de614cb42e90992a65aa266555a3137d0d"
   }
  }
 },
 "nbformat": 4,
 "nbformat_minor": 2
}
