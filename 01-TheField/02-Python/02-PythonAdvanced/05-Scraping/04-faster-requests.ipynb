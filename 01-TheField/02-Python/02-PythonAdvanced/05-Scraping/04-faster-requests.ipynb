{
 "cells": [
  {
   "cell_type": "markdown",
   "metadata": {},
   "source": [
    "# Make your requests faster\n",
    "\n",
    "When you start scraping web-pages or requesting APIs, you will be facing a problem when doing a lot of requests: this is really slow!\n",
    "\n",
    "It's because python is slow! You could say, well it should not be. Let's see how we can speed things up!\n",
    "\n",
    "## Measure performances\n",
    "\n",
    "In this notebook we will need to track how much time some code is taking to execute.\n",
    "To make things easier, we will create a simple decorator that will print the number of micro-seconds a function takes to execute.\n",
    "\n",
    "A good opportonity to practice decorators in a practical example!\n",
    "\n",
    "*Note that you need python3.3 or higher.*"
   ]
  },
  {
   "cell_type": "code",
   "execution_count": 1,
   "metadata": {},
   "outputs": [
    {
     "name": "stdout",
     "output_type": "stream",
     "text": [
      "example took 2.0 sec\n"
     ]
    }
   ],
   "source": [
    "import time\n",
    "\n",
    "def print_timing(func):\n",
    "    '''Create a timing decorator function use @print_timing just above the function you want to time.'''\n",
    "\n",
    "    def wrapper(*arg):\n",
    "        start = time.perf_counter()\n",
    "        \n",
    "        # Run the function decorated\n",
    "        result = func(*arg)\n",
    "\n",
    "        end = time.perf_counter()\n",
    "        execution_time = round((end - start), 2)\n",
    "        print(f'{func.__name__} took {execution_time} sec')\n",
    "        return result\n",
    "\n",
    "    return wrapper\n",
    "\n",
    "\n",
    "@print_timing\n",
    "def example():\n",
    "    time.sleep(2)\n",
    "\n",
    "\n",
    "example()"
   ]
  },
  {
   "cell_type": "markdown",
   "metadata": {},
   "source": [
    "## The API\n",
    "\n",
    "For this example, we will use the [quotable.io](https://api.quotable.io) API. It's an online API you can use to generate random quote.\n",
    "\n",
    "But feel free to replace `api_url` value with any API you'd like."
   ]
  },
  {
   "cell_type": "code",
   "execution_count": 2,
   "metadata": {},
   "outputs": [],
   "source": [
    "api_url = \"https://api.quotable.io/random\""
   ]
  },
  {
   "cell_type": "markdown",
   "metadata": {},
   "source": [
    "## The \"classic\" way\n",
    "\n",
    "If you start playing with requests, your should probably have something like this:"
   ]
  },
  {
   "cell_type": "code",
   "execution_count": 3,
   "metadata": {},
   "outputs": [
    {
     "name": "stdout",
     "output_type": "stream",
     "text": [
      "That old law about 'an eye for an eye' leaves everybody blind. The time is always right to do the right thing.\n",
      "The important thing is this: to be able at any moment to sacrifice what we are for what we could become.\n",
      "Only do what your heart tells you.\n",
      "You are never given a wish without also being given the power to make it come true. You may have to work for it, however.\n",
      "There are many ways of going forward, but only one way of standing still.\n",
      "Friends show their love in times of trouble, not in happiness.\n",
      "Reason and free inquiry are the only effectual agents against error.\n",
      "Technological progress has merely provided us with more efficient means for going backwards.\n",
      "We can only be said to be alive in those moments when our hearts are conscious of our treasures.\n",
      "Unless one is able to live fully in the present, the future is a hoax.\n",
      "Habit, if not resisted, soon becomes necessity.\n",
      "Without courage, wisdom bears no fruit.\n",
      "Quality is not an act; it is a habit.\n",
      "Wisdom is a kind of knowledge. It is knowledge of the nature, career, and consequences of human values.\n",
      "One loyal friend is worth ten thousand relatives.\n",
      "You spend a good piece of your life gripping a baseball and in the end it turns out that it was the other way around all the time.\n",
      "If the single man plant himself indomitably on his instincts, and there abide, the huge world will come round to him.\n",
      "We may encounter many defeats, but we must not be defeated.\n",
      "Love isn't something you find. Love is something that finds you.\n",
      "The beginning of knowledge is the discovery of something we do not understand.\n",
      "One's life has value so long as one attributes value to the life of others, by means of love, friendship, indignation and compassion.\n",
      "There is nothing in a caterpillar that tells you it's going to be a butterfly.\n",
      "Doing nothing is better than being busy doing nothing.\n",
      "Anything you really want, you can attain, if you really go after it.\n",
      "Knowing is not enough; we must apply. Willing is not enough; we must do.\n",
      "Trust only movement. Life happens at the level of events, not of words. Trust movement.\n",
      "A leader is best when people barely know he exists, when his work is done, his aim fulfilled, they will say: we did it ourselves.\n",
      "Persuasion is often more effectual than force.\n",
      "The great myth of our times is that technology is communication.\n",
      "Great are they who see that spiritual is stronger than any material force, that thoughts rule the world.\n",
      "The best and most beautiful things in the world cannot be seen, nor touched... but are felt in the heart.\n",
      "The only real mistake is the one from which we learn nothing.\n",
      "To choose what is difficult all one's days, as if it were easy, that is faith.\n",
      "Accept the challenges so that you can feel the exhilaration of victory.\n",
      "The poor man is not he who is without a cent, but he who is without a dream.\n",
      "Be not afraid of greatness: some are born great, some achieve greatness, and some have greatness thrust upon them.\n",
      "Use what talents you possess; the woods would be very silent if no birds sang there except those that sang best.\n",
      "I have an everyday religion that works for me. Love yourself first, and everything else falls into line.\n",
      "One may say the eternal mystery of the world is its comprehensibility.\n",
      "Humanity is acquiring all the right technology for all the wrong reasons.\n",
      "All this modern technology just makes people try to do everything at once.\n",
      "To be wronged is nothing unless you continue to remember it.\n",
      "The word philosophy sounds high-minded, but it simply means the love of wisdom. If you love something, you don't just read about it; you hug it, you mess with it, you play with it, you argue with it.\n",
      "Technology is nothing. What's important is that you have a faith in people, that they're basically good and smart, and if you give them tools, they'll do wonderful things with them.\n",
      "Friendship without self-interest is one of the rare and beautiful things of life.\n",
      "Everything you can imagine is real.\n",
      "A true friend freely, advises justly, assists readily, adventures boldly, takes all patiently, defends courageously, and continues a friend unchangeably.\n",
      "To accomplish great things, we must dream as well as act.\n",
      "Technology is the campfire around which we tell our stories.\n",
      "If you think you can, you can. And if you think you can't, you're right.\n",
      "basic_loop_request took 26.88 sec\n"
     ]
    }
   ],
   "source": [
    "import requests\n",
    "\n",
    "\n",
    "def basic_request(url: str):\n",
    "    response = requests.get(url)\n",
    "    response_json = response.json()\n",
    "    print(response_json[\"content\"])\n",
    "\n",
    "\n",
    "@print_timing\n",
    "def basic_loop_request(url: str):\n",
    "    # Query 50 times the API\n",
    "    for _ in range(50):\n",
    "        basic_request(url)\n",
    "\n",
    "\n",
    "basic_loop_request(api_url)"
   ]
  },
  {
   "cell_type": "markdown",
   "metadata": {},
   "source": [
    "### Results\n",
    "\n",
    "On my machine it took **17.06 sec for 50 requests**. \n",
    "\n",
    "Pretty slow right? But why is that?\n",
    "\n",
    "Each time you make a request, your computer needs to create a new \"session\", format your request, send it and wait to receive the response before doing it again with the next request."
   ]
  },
  {
   "cell_type": "markdown",
   "metadata": {},
   "source": [
    "## The \"session\" way\n",
    "\n",
    "To speed this, we can use a **\"session\"** that will be share by all the requests.\n",
    "\n",
    "You can picture it as a postman that knows you already, so he knows which bell to ring, where is the mailbox,... Instead of having to search for those each time."
   ]
  },
  {
   "cell_type": "code",
   "execution_count": 4,
   "metadata": {},
   "outputs": [
    {
     "name": "stdout",
     "output_type": "stream",
     "text": [
      "Blessed is the man who expects nothing, for he shall never be disappointed.\n",
      "The world turns aside to let any man pass who knows where he is going.\n",
      "True friendship is like sound health; the value of it is seldom known until it is lost.\n",
      "Begin at once to live and count each separate day as a separate life.\n",
      "Being in humaneness is good. If we select other goodness and thus are far apart from humaneness, how can we be the wise?\n",
      "If you spend your whole life waiting for the storm, you'll never enjoy the sunshine.\n",
      "He can who thinks he can, and he can't who thinks he can't. This is an inexorable, indisputable law.\n",
      "I've missed more than 9000 shots in my career. I've lost almost 300 games. 26 times, I've been trusted to take the game winning shot and missed. I've failed over and over and over again in my life. And that is why I succeed.\n",
      "Attitude is a little thing that makes a big difference.\n",
      "Watch the little things; a small leak will sink a great ship.\n",
      "Important principles may, and must, be inflexible.\n",
      "There is more wisdom in your body than in your deepest philosophy.\n",
      "One secret of success in life is for a man to be ready for his opportunity when it comes.\n",
      "A man should look for what is, and not for what he thinks should be.\n",
      "Permanence, perseverance and persistence in spite of all obstacles, discouragements, and impossibilities: It is this, that in all things distinguishes the strong soul from the weak.\n",
      "The word philosophy sounds high-minded, but it simply means the love of wisdom. If you love something, you don't just read about it; you hug it, you mess with it, you play with it, you argue with it.\n",
      "Everything in the universe goes by indirection. There are no straight lines.\n",
      "If you break your neck, if you have nothing to eat, if your house is on fire, then you got a problem. Everything else is inconvenience.\n",
      "Champions keep playing until they get it right.\n",
      "Be yourself; everyone else is already taken.\n",
      "Nobody will believe in you unless you believe in yourself.\n",
      "Winners never quit and quitters never win.\n",
      "Great are they who see that spiritual is stronger than any material force, that thoughts rule the world.\n",
      "Mind is everything: muscle, pieces of rubber. All that I am, I am because of my mind.\n",
      "Neither a lofty degree of intelligence nor imagination nor both together go to the making of genius. Love, love, love, that is the soul of genius.\n",
      "We could never learn to be brave and patient if there were only joy in the world.\n",
      "It is one of the blessings of old friends that you can afford to be stupid with them.\n",
      "Love does not consist of gazing at each other, but in looking together in the same direction.\n",
      "Fine words and an insinuating appearance are seldom associated with true virtue\n",
      "Wisdom consists of the anticipation of consequences.\n",
      "Think like a man of action; act like a man of thought.\n",
      "I hope our wisdom will grow with our power, and teach us, that the less we use our power the greater it will be.\n",
      "Whether you think you can or you think you can't, you are right.\n",
      "Opportunity often comes disguised in the form of misfortune, or temporary defeat.\n",
      "Great are they who see that spiritual is stronger than any material force, that thoughts rule the world.\n",
      "Genius is one percent inspiration and ninety-nine percent perspiration.\n",
      "Never interrupt your enemy when he is making a mistake.\n",
      "To be fully alive, fully human, and completely awake is to be continually thrown out of the nest.\n",
      "Remember always that you not only have the right to be an individual, you have an obligation to be one.\n",
      "I prefer the folly of enthusiasm to the indifference of wisdom.\n",
      "A man may fulfil the object of his existence by asking a question he cannot answer and attempting a task he cannot achieve.\n",
      "It isn't where you come from, it's where you're going that counts.\n",
      "The smallest flower is a thought, a life answering to some feature of the Great Whole, of whom they have a persistent intuition.\n",
      "Whenever something negative happens to you, there is a deep lesson concealed within it.\n",
      "Through perseverance many people win success out of what seemed destined to be certain failure.\n",
      "We the people are the rightful masters of both Congress and the courts, not to overthrow the Constitution but to overthrow the men who pervert the Constitution.\n",
      "We can only learn to love by loving.\n",
      "One should train in deeds of merit—generosity, a balanced life, developing a loving mind—that yield long-lasting happiness.\n",
      "Your vision will become clear only when you can look into your own heart. Who looks outside, dreams, who looks inside, awakes.\n",
      "If you fell down yesterday, stand up today.\n",
      "session_loop_request took 7.54 sec\n"
     ]
    }
   ],
   "source": [
    "from requests import Session\n",
    "\n",
    "\n",
    "def session_request(url: str, session: Session):\n",
    "    # Instead of using request.get, we use our session\n",
    "    response = session.get(url)\n",
    "    response_json = response.json()\n",
    "    print(response_json[\"content\"])\n",
    "\n",
    "\n",
    "@print_timing\n",
    "def session_loop_request(url: str):\n",
    "    # Create shared session for all of your requests\n",
    "    with Session() as session:\n",
    "        # Query 50 times the API\n",
    "        for _ in range(50):\n",
    "            session_request(url, session)\n",
    "\n",
    "\n",
    "session_loop_request(api_url)"
   ]
  },
  {
   "cell_type": "markdown",
   "metadata": {},
   "source": [
    "### Results\n",
    "\n",
    "It took me **5.99 sec for 50 requests**. That's better!\n",
    "\n",
    "And as you can see, I didn't change that much in the code."
   ]
  },
  {
   "cell_type": "markdown",
   "metadata": {},
   "source": [
    "## The \"Async\" way\n",
    "\n",
    "If you need even more performances, you will need to use [AsyncIo](https://docs.python.org/3/library/asyncio.html).\n",
    "\n",
    "This is a library to allow you to run asynchronous code.\n",
    "\n",
    "Why is that more efficiant? Well, when you send a request you need to wait for the response. And during the waiting time, our computer does nothing.\n",
    "If you count all the time the computer is just \"waiting\" on 50 or more requests, you will be surprised to see that most of the computing time is just waiting for the server to respond.\n",
    "\n",
    "[AsyncIo](https://docs.python.org/3/library/asyncio.html) allow you to bypass that.\n",
    "\n",
    "But as always, it has a cost: complexity.\n",
    "\n",
    "Making your code async will complixify the code a lot and make the debugging not a pleasant experience. Also, you will go so fast that you could be banned by the server.\n",
    "\n",
    "My advice? Use it only if you need it.\n",
    "\n",
    "I will show you a simple example but you want to understand it better, I really advice you **[this video](https://www.youtube.com/watch?v=qAh5dDODJ5k)**!\n",
    "\n",
    "### Requirements\n",
    "In order to simplify a bit the code, I will use [httpx](https://www.python-httpx.org/) a python library that is working the same way as the `requests` module but with few helpers for async."
   ]
  },
  {
   "cell_type": "code",
   "execution_count": 5,
   "metadata": {},
   "outputs": [
    {
     "name": "stdout",
     "output_type": "stream",
     "text": [
      "Defaulting to user installation because normal site-packages is not writeable\n",
      "Collecting httpx\n",
      "  Downloading httpx-0.27.0-py3-none-any.whl.metadata (7.2 kB)\n",
      "Collecting anyio (from httpx)\n",
      "  Downloading anyio-4.4.0-py3-none-any.whl.metadata (4.6 kB)\n",
      "Requirement already satisfied: certifi in /home/servietske/.local/lib/python3.10/site-packages (from httpx) (2023.7.22)\n",
      "Collecting httpcore==1.* (from httpx)\n",
      "  Downloading httpcore-1.0.5-py3-none-any.whl.metadata (20 kB)\n",
      "Requirement already satisfied: idna in /usr/lib/python3/dist-packages (from httpx) (3.3)\n",
      "Requirement already satisfied: sniffio in /home/servietske/.local/lib/python3.10/site-packages (from httpx) (1.3.0)\n",
      "Requirement already satisfied: h11<0.15,>=0.13 in /home/servietske/.local/lib/python3.10/site-packages (from httpcore==1.*->httpx) (0.14.0)\n",
      "Requirement already satisfied: exceptiongroup>=1.0.2 in /home/servietske/.local/lib/python3.10/site-packages (from anyio->httpx) (1.1.2)\n",
      "Requirement already satisfied: typing-extensions>=4.1 in /home/servietske/.local/lib/python3.10/site-packages (from anyio->httpx) (4.7.1)\n",
      "Downloading httpx-0.27.0-py3-none-any.whl (75 kB)\n",
      "\u001b[2K   \u001b[90m━━━━━━━━━━━━━━━━━━━━━━━━━━━━━━━━━━━━━━━━\u001b[0m \u001b[32m75.6/75.6 kB\u001b[0m \u001b[31m1.4 MB/s\u001b[0m eta \u001b[36m0:00:00\u001b[0ma \u001b[36m0:00:01\u001b[0m\n",
      "\u001b[?25hDownloading httpcore-1.0.5-py3-none-any.whl (77 kB)\n",
      "\u001b[2K   \u001b[90m━━━━━━━━━━━━━━━━━━━━━━━━━━━━━━━━━━━━━━━━\u001b[0m \u001b[32m77.9/77.9 kB\u001b[0m \u001b[31m8.7 MB/s\u001b[0m eta \u001b[36m0:00:00\u001b[0m\n",
      "\u001b[?25hDownloading anyio-4.4.0-py3-none-any.whl (86 kB)\n",
      "\u001b[2K   \u001b[90m━━━━━━━━━━━━━━━━━━━━━━━━━━━━━━━━━━━━━━━━\u001b[0m \u001b[32m86.8/86.8 kB\u001b[0m \u001b[31m2.6 MB/s\u001b[0m eta \u001b[36m0:00:00\u001b[0m\n",
      "\u001b[?25hInstalling collected packages: httpcore, anyio, httpx\n",
      "Successfully installed anyio-4.4.0 httpcore-1.0.5 httpx-0.27.0\n"
     ]
    }
   ],
   "source": [
    "!pip install httpx"
   ]
  },
  {
   "cell_type": "markdown",
   "metadata": {},
   "source": [
    "### Warning!\n",
    "This code won't work in jupyter notebook, there are subtilities for async in jupyter notebook. See [this thread](https://stackoverflow.com/questions/47518874/how-do-i-run-python-asyncio-code-in-a-jupyter-notebook) for more informations.\n",
    "\n",
    "To make it simpler, I will put this code in a .py file and run it in command line:"
   ]
  },
  {
   "cell_type": "markdown",
   "metadata": {},
   "source": [
    "```python\n",
    "from httpx import AsyncClient\n",
    "import asyncio\n",
    "import time\n",
    "\n",
    "\n",
    "api_url = \"https://api.quotable.io/random\"\n",
    "\n",
    "\n",
    "async def session_request_async(url: str, session: AsyncClient):\n",
    "    # Instead of using request.get, we use our session\n",
    "    response = await session.get(url)\n",
    "    response_json = response.json()\n",
    "    print(response_json[\"content\"])\n",
    "    return response_json\n",
    "\n",
    "\n",
    "async def session_loop_request_async(url: str):\n",
    "    # Create shared session for all of your requests\n",
    "    async with AsyncClient() as session:\n",
    "        # Create a list of empty tasks\n",
    "        tasks = []\n",
    "        # Query 50 times the API\n",
    "        for _ in range(50):\n",
    "            # Add a request to tasks\n",
    "            tasks.append(\n",
    "                asyncio.create_task(\n",
    "                    session_request_async(url, session)        \n",
    "                )\n",
    "            )\n",
    "        # Now that all the tasks are registred, run them\n",
    "        responses = await asyncio.gather(*tasks)\n",
    "            \n",
    "            \n",
    "\n",
    "\n",
    "start = time.perf_counter()\n",
    "\n",
    "# We need to use asyncio.run to run the async function\n",
    "asyncio.run(session_loop_request_async(api_url))\n",
    "\n",
    "end = time.perf_counter()\n",
    "execution_time = round((end - start), 2)\n",
    "print(f'session_loop_request_async took {execution_time} sec')\n",
    "```"
   ]
  },
  {
   "cell_type": "code",
   "execution_count": 6,
   "metadata": {},
   "outputs": [
    {
     "name": "stdout",
     "output_type": "stream",
     "text": [
      "True friendship is a plant of slow growth, and must undergo and withstand the shocks of adversity, before it is entitled to the appellation.\n",
      "Fans don't boo nobodies.\n",
      "Every great dream begins with a dreamer. Always remember, you have within you the strength, the patience, and the passion to reach for the stars to change the world.\n",
      "Trust your own instinct. Your mistakes might as well be your own, instead of someone else's.\n",
      "Ethics change with technology.\n",
      "The right way is not always the popular and easy way. Standing for right when it is unpopular is a true test of moral character.\n",
      "The secret of business is to know something that nobody else knows.\n",
      "Don't worry about people stealing your ideas. If your ideas are any good, you'll have to ram them down people's throats.\n",
      "Happiness does not come about only due to external circumstances; it mainly derives from inner attitudes.\n",
      "If you want your life to be more rewarding, you have to change the way you think.\n",
      "You cannot step twice into the same river, for other waters are continually flowing in.\n",
      "Tennis is a perfect combination of violent action taking place in an atmosphere of total tranquillity.\n",
      "Just as much as we see in others, we have in ourselves.\n",
      "If you accept the expectations of others, especially negative ones, then you never will change the outcome.\n",
      "You can't let praise or criticism get to you. It's a weakness to get caught up in either one.\n",
      "Change your thoughts and you change your world.\n",
      "Let us resolve to be masters, not the victims, of our history, controlling our own destiny without giving way to blind suspicions and emotions.\n",
      "All that I am, or hope to be, I owe to my angel mother.\n",
      "Great ideas often receive violent opposition from mediocre minds.\n",
      "Blessed is the man who expects nothing, for he shall never be disappointed.\n",
      "If you find yourself in a hole, the first thing to do is stop digging.\n",
      "Wisdom begins at the end.\n",
      "So much technology, so little talent.\n",
      "Sadness flies away on the wings of time.\n",
      "Wisdom is the right use of knowledge. To know is not to be wise. Many men know a great deal and are all the greater fools for it. There is no fool so great a fool as a knowing fool. But to know how to use knowledge is to have wisdom.\n",
      "I love wisdom. And you can never be great at anything unless you love it. Not be in love with it, but love the thing, admire the thing. And it seems that if you love the thing, and you don't just want to possess it, it will find you.\n",
      "What makes Superman a hero is not that he has power, but that he has the wisdom and the maturity to use the power wisely. From an acting point of view, that's how I approached the part.\n",
      "Tennis is a perfect combination of violent action taking place in an atmosphere of total tranquillity.\n",
      "In wisdom gathered over time I have found that every experience is a form of exploration.\n",
      "To exist is to change, to change is to mature, to mature is to go on creating oneself endlessly.\n",
      "Happiness mainly comes from our own attitude, rather than from external factors.\n",
      "Those that know, do. Those that understand, teach.\n",
      "I think that novels that leave out technology misrepresent life as badly as Victorians misrepresented life by leaving out sex.\n",
      "It is not fair to ask of others what you are unwilling to do yourself.\n",
      "Compassion and happiness are not a sign of weakness but a sign of strength.\n",
      "Get busy living or get busy dying.\n",
      "The superior man is satisfied and composed; the mean man is always full of distress.\n",
      "The pain passes, but the beauty remains.\n",
      "No man is free who is not master of himself.\n",
      "In complete darkness we are all the same, it is only our knowledge and wisdom that separates us, don't let your eyes deceive you.\n",
      "Friendship is certainly the finest balm for the pangs of disappointed love.\n",
      "The most I can do for my friend is simply be his friend.\n",
      "Love is a serious mental disease.\n",
      "Do not wait for leaders; do it alone, person to person.\n",
      "Friendship is the marriage of the soul, and this marriage is liable to divorce.\n",
      "The most formidable weapon against errors of every kind is reason.\n",
      "The world is but a canvas to the imagination.\n",
      "The sum of wisdom is that time is never lost that is devoted to work.\n",
      "The two most powerful warriors are patience and time.\n",
      "May our hearts garden of awakening bloom with hundreds of flowers.\n",
      "session_loop_request_async took 0.86 sec\n"
     ]
    }
   ],
   "source": [
    "!python3 ./assets/async_requests.py"
   ]
  },
  {
   "cell_type": "markdown",
   "metadata": {},
   "source": [
    "### Results\n",
    "It only took me **0.8 sec for 50 requests**! That's impressive.\n",
    "\n",
    "But as you can see, it is harder to write, structure and debug. So make sure you **really** need it if you consider using this method."
   ]
  },
  {
   "cell_type": "markdown",
   "metadata": {},
   "source": [
    "## Summary\n",
    "\n",
    "If we gather all our results:\n",
    "\n",
    "| Method                     | Execution time for 50 requests |\n",
    "|----------------------------|--------------------------------|\n",
    "| `requests.get` loop        | 17.06 sec                  |\n",
    "| `requests` with `Session`  | 5.99 sec                   |\n",
    "| `httpx` with `AsyncClient` | 0.8 sec                   |"
   ]
  },
  {
   "cell_type": "markdown",
   "metadata": {},
   "source": []
  }
 ],
 "metadata": {
  "kernelspec": {
   "display_name": "Python 3.10.5 64-bit",
   "language": "python",
   "name": "python3"
  },
  "language_info": {
   "codemirror_mode": {
    "name": "ipython",
    "version": 3
   },
   "file_extension": ".py",
   "mimetype": "text/x-python",
   "name": "python",
   "nbconvert_exporter": "python",
   "pygments_lexer": "ipython3",
   "version": "3.10.12"
  },
  "orig_nbformat": 4,
  "vscode": {
   "interpreter": {
    "hash": "b460384b52104c1e5b9cf54bee46a255d22b2bef338f75ac4ad5d48196028d3c"
   }
  }
 },
 "nbformat": 4,
 "nbformat_minor": 2
}
